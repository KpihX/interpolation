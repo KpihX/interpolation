{
 "cells": [
  {
   "cell_type": "code",
   "execution_count": 135,
   "metadata": {},
   "outputs": [],
   "source": [
    "import numpy as np\n",
    "import math\n",
    "\n",
    "real = int | float\n",
    "Real = {int, float}"
   ]
  },
  {
   "cell_type": "code",
   "execution_count": 136,
   "metadata": {},
   "outputs": [],
   "source": [
    "def f(x):\n",
    "    return x**2\n",
    "\n",
    "a, b, n = 1, 10, 10"
   ]
  },
  {
   "cell_type": "code",
   "execution_count": 137,
   "metadata": {},
   "outputs": [
    {
     "name": "stdout",
     "output_type": "stream",
     "text": [
      "x_uniform = [ 1.  2.  3.  4.  5.  6.  7.  8.  9. 10.]\n",
      "y_uniform = [  1.   4.   9.  16.  25.  36.  49.  64.  81. 100.]\n"
     ]
    }
   ],
   "source": [
    "x_uniform = np.linspace(a, b, n)\n",
    "y_uniform = f(x_uniform)\n",
    "print(\"x_uniform =\", x_uniform)\n",
    "print(\"y_uniform =\", y_uniform)"
   ]
  },
  {
   "cell_type": "code",
   "execution_count": 138,
   "metadata": {},
   "outputs": [
    {
     "name": "stdout",
     "output_type": "stream",
     "text": [
      "x_tchebychev = [1.05540247 1.49047064 2.31801948 3.45704275 4.79604491 6.20395509\n",
      " 7.54295725 8.68198052 9.50952936 9.94459753]\n",
      "y_tchebychev = [ 1.11387437  2.22150273  5.37321433 11.95114458 23.00204675 38.48905879\n",
      " 56.89620406 75.37678567 90.43114863 98.89502009]\n"
     ]
    }
   ],
   "source": [
    "def tchebychev_points(a, b, n):\n",
    "    return (a + b)/2 - (b - a)/2 * np.array([math.cos(math.pi*(2*i+1)/(2*n)) for i in range(n)])\n",
    "\n",
    "x_tchebychev = tchebychev_points(a, b, n)\n",
    "y_tchebychev = f(x_tchebychev)\n",
    "print(\"x_tchebychev =\", x_tchebychev)\n",
    "print(\"y_tchebychev =\", y_tchebychev)"
   ]
  },
  {
   "cell_type": "code",
   "execution_count": 139,
   "metadata": {},
   "outputs": [
    {
     "name": "stdout",
     "output_type": "stream",
     "text": [
      "x = [1, 2, 3, 4, 5, 6, 7, 8, 9, 10]\n",
      "y = [1, 4, 9, 16, 25, 36, 49, 64, 81, 100]\n",
      "p(x) = 1.0 + 3.0 * (x - 1.0) + 1.0 * (x - 1.0)(x - 2.0)\n",
      "p(7) = 49.0\n"
     ]
    }
   ],
   "source": [
    "class NewtonPolynomial:\n",
    "    def __init__(self, x, y, name='p'):\n",
    "        self.x = np.array(x, dtype=float)\n",
    "        self.y = np.array(y, dtype=float)\n",
    "        self.coefficients = self.newton_interpol_coefs(self.x, self.y)\n",
    "        self.name = name\n",
    "\n",
    "    def newton_interpol_coefs(self, x, y):\n",
    "        n = len(x)\n",
    "        coefficients = y.copy()\n",
    "        step = 1\n",
    "        for j in range(1, n):\n",
    "            coefficients[j:n] = (coefficients[j:n] - coefficients[j-1:n-1]) / (x[j:n] - x[j-step:n-step])\n",
    "            step += 1\n",
    "        return coefficients\n",
    "\n",
    "    def horner_eval(self, x0):\n",
    "        n = len(self.coefficients)\n",
    "        result = self.coefficients[-1]\n",
    "        for i in range(n - 2, -1, -1):\n",
    "            result = result * (x0 - self.x[i]) + self.coefficients[i]\n",
    "        return result\n",
    "\n",
    "    def __str__(self):\n",
    "        nb_dec_digits = 3\n",
    "        terms = [f\"{self.coefficients[0]}\"] if self.coefficients[0] != 0 else []\n",
    "        term = \"\"\n",
    "        for i in range(0, len(self.coefficients)-1):\n",
    "            if self.coefficients[i+1] == 0:\n",
    "                continue\n",
    "            term += f\"(x - {round(self.x[i], nb_dec_digits)})\" if self.x[i] != 0 else \"x\"\n",
    "            terms.append(f\"{round(self.coefficients[i+1], nb_dec_digits)} * \" + term)\n",
    "        return self.name + \"(x) = \" + \" + \".join(terms)\n",
    "\n",
    "x = [1, 2, 3, 4, 5, 6, 7, 8, 9, 10]\n",
    "y = [1, 4, 9, 16, 25, 36, 49, 64, 81, 100]\n",
    "print(\"x =\", x)\n",
    "print(\"y =\", y)\n",
    "polynomial = NewtonPolynomial(x, y)\n",
    "print(polynomial)\n",
    "\n",
    "x = 7\n",
    "value = polynomial.horner_eval(7)\n",
    "print(f\"p({x}) = {value}\")"
   ]
  },
  {
   "cell_type": "code",
   "execution_count": 140,
   "metadata": {},
   "outputs": [
    {
     "name": "stdout",
     "output_type": "stream",
     "text": [
      "x_uniform = [ 1.  2.  3.  4.  5.  6.  7.  8.  9. 10.]\n",
      "y_uniform = [  1.   4.   9.  16.  25.  36.  49.  64.  81. 100.]\n",
      "49.0\n"
     ]
    }
   ],
   "source": [
    "uniform_lagrange_poly_f = NewtonPolynomial(x_uniform, y_uniform)\n",
    "\n",
    "x0 = 7\n",
    "print(\"x_uniform =\", x_uniform)\n",
    "print(\"y_uniform =\", y_uniform)\n",
    "print(uniform_lagrange_poly_f.horner_eval(x0))\n"
   ]
  },
  {
   "cell_type": "code",
   "execution_count": 141,
   "metadata": {},
   "outputs": [
    {
     "name": "stdout",
     "output_type": "stream",
     "text": [
      "x_tchebychev = [1.05540247 1.49047064 2.31801948 3.45704275 4.79604491 6.20395509\n",
      " 7.54295725 8.68198052 9.50952936 9.94459753]\n",
      "y_tchebychev = [ 1.11387437  2.22150273  5.37321433 11.95114458 23.00204675 38.48905879\n",
      " 56.89620406 75.37678567 90.43114863 98.89502009]\n",
      "49.0\n"
     ]
    }
   ],
   "source": [
    "tchebychev_lagrange_poly_f = NewtonPolynomial(x_tchebychev, y_tchebychev)\n",
    "\n",
    "print(\"x_tchebychev =\", x_tchebychev)\n",
    "print(\"y_tchebychev =\", y_tchebychev)\n",
    "print(tchebychev_lagrange_poly_f.horner_eval(x0))"
   ]
  },
  {
   "cell_type": "code",
   "execution_count": 22,
   "metadata": {},
   "outputs": [
    {
     "name": "stdout",
     "output_type": "stream",
     "text": [
      "[0.5 2. ] [1.  0.5 2.  7. ]\n"
     ]
    }
   ],
   "source": [
    "x = np.array([1, 2, 4, 7], dtype=float)\n",
    "y = np.array([1, 4, 2, 8])\n",
    "z = x[1:3] / y[1:3]\n",
    "x[1:3] = z[:]\n",
    "print(z, x)"
   ]
  },
  {
   "cell_type": "code",
   "execution_count": null,
   "metadata": {},
   "outputs": [],
   "source": [
    "class LagrangeLinearPolynomial:\n",
    "    def __init__(self, x, y):\n",
    "        self.x = np.array(x, dtype=float)\n",
    "        self.y = np.array(y, dtype=float)\n",
    "        self.name = 'p'\n",
    "        self.polynomials = [NewtonPolynomial(self.x[i:i+2], self.y[i:i+2]) for i in range(len(self.x))]\n",
    "        self.coefficients = self.lagrange_interpol_coefs(self.x, self.y)\n",
    "\n",
    "    def eval(self, x0):\n",
    "        before_x0 = 0\n",
    "        after_x0 = 0\n",
    "        for i in range(1, len(self.polynomials)):\n",
    "            if self.x[i] > self.x[before_x0] and x0 < self.x[i]:\n",
    "                before_x0 = i\n",
    "            if self.x[i] < self.x[after_x0] and x0 > self.x[i]:\n",
    "                after_x0 = i\n",
    "        if before_x0 == 0 and self.x[0] > x0:\n",
    "            raise ValueError(f\"!{x0} est avant la plage des abscisses\")\n",
    "        if after_x0 == 0 and self.x[0] < x0:\n",
    "            raise ValueError(f\"!{x0} est apres la plage des abscisses\")\n",
    "        return self.polynomials[before_x0].horner_eval(x0)"
   ]
  },
  {
   "cell_type": "code",
   "execution_count": null,
   "metadata": {},
   "outputs": [],
   "source": [
    "class TaylorPolynomial:\n",
    "    def __init__(self, x, y, name='p'):\n",
    "        self.x = np.array(x, dtype=float)\n",
    "        self.y = np.array(y, dtype=float)\n",
    "        self.coefficients = self.taylor_interpol_coefs(self.x, self.y)\n",
    "        self.name = name\n",
    "\n",
    "    def taylor_interpol_coefs(self, x, y):\n",
    "        n = len(x)\n",
    "        coefficients = y.copy()\n",
    "        step = 1\n",
    "        for j in range(1, n):\n",
    "            coefficients[j:n] = (coefficients[j:n] - coefficients[j-1:n-1]) / (x[j:n] - x[j-step:n-step])\n",
    "            step += 1\n",
    "        return coefficients\n",
    "\n",
    "    def horner_eval(self, x0):\n",
    "        n = len(self.coefficients)\n",
    "        result = self.coefficients[-1]\n",
    "        for i in range(n - 2, -1, -1):\n",
    "            result = result * (x0 - self.x[i]) + self.coefficients[i]\n",
    "        return result\n",
    "\n",
    "    def __str__(self):\n",
    "        nb_dec_digits = 3\n",
    "        terms = [f\"{self.coefficients[0]}\"] if self.coefficients[0] != 0 else []\n",
    "        term = \"\"\n",
    "        for i in range(0, len(self.coefficients)-1):\n",
    "            if self.coefficients[i+1] == 0:\n",
    "                continue\n",
    "            term += f\"(x - {round(self.x[i], nb_dec_digits)})\" if self.x[i] != 0 else \"x\"\n",
    "            terms.append(f\"{round(self.coefficients[i+1], nb_dec_digits)} * \" + term)\n",
    "        return self.name + \"(x) = \" + \" + \".join(terms)\n",
    "\n",
    "x = [1, 2, 3, 4, 5, 6, 7, 8, 9, 10]\n",
    "y = [1, 4, 9, 16, 25, 36, 49, 64, 81, 100]\n",
    "print(\"x =\", x)\n",
    "print(\"y =\", y)\n",
    "polynomial = NewtonPolynomial(x, y)\n",
    "print(polynomial)\n",
    "\n",
    "x = 7\n",
    "value = polynomial.horner_eval(7)\n",
    "print(f\"p({x}) = {value}\")"
   ]
  },
  {
   "cell_type": "code",
   "execution_count": null,
   "metadata": {},
   "outputs": [],
   "source": [
    "\n",
    "\n",
    "class SplineCubicPolynomial:\n",
    "    def __init__(self, x, y):\n",
    "        self.x = np.array(x, dtype=float)\n",
    "        self.y = np.array(y, dtype=float)\n",
    "        self.name = 'p'\n",
    "        self.polynomials = [NewtonPolynomial(self.x[i:i+2], self.y[i:i+2]) for i in range(len(self.x))]\n",
    "        self.coefficients = self.lagrange_interpol_coefs(self.x, self.y)\n",
    "\n",
    "    def eval(self, x0):\n",
    "        before_x0 = 0\n",
    "        after_x0 = 0\n",
    "        for i in range(1, len(self.polynomials)):\n",
    "            if self.x[i] > self.x[before_x0] and x0 < self.x[i]:\n",
    "                before_x0 = i\n",
    "            if self.x[i] < self.x[after_x0] and x0 > self.x[i]:\n",
    "                after_x0 = i\n",
    "        if before_x0 == 0 and self.x[0] > x0:\n",
    "            raise ValueError(f\"!{x0} est avant la plage des abscisses\")\n",
    "        if after_x0 == 0 and self.x[0] < x0:\n",
    "            raise ValueError(f\"!{x0} est apres la plage des abscisses\")\n",
    "        return self.polynomials[before_x0].horner_eval(x0)"
   ]
  }
 ],
 "metadata": {
  "kernelspec": {
   "display_name": "base",
   "language": "python",
   "name": "python3"
  },
  "language_info": {
   "codemirror_mode": {
    "name": "ipython",
    "version": 3
   },
   "file_extension": ".py",
   "mimetype": "text/x-python",
   "name": "python",
   "nbconvert_exporter": "python",
   "pygments_lexer": "ipython3",
   "version": "3.11.5"
  }
 },
 "nbformat": 4,
 "nbformat_minor": 2
}
